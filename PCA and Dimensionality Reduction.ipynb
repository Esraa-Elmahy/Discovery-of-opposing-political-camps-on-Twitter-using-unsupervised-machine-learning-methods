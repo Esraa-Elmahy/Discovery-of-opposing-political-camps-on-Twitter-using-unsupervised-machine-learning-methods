{
 "cells": [
  {
   "cell_type": "markdown",
   "metadata": {},
   "source": [
    "# Principal Component Analysis and Dimensionality Reduction Technique on Twitter UK Dataset"
   ]
  },
  {
   "cell_type": "markdown",
   "metadata": {},
   "source": [
    "**By Esraa Mohamed**"
   ]
  },
  {
   "cell_type": "markdown",
   "metadata": {},
   "source": [
    "<img src=\"https://i.imgur.com/WrNeEhp.png\">"
   ]
  },
  {
   "cell_type": "markdown",
   "metadata": {},
   "source": [
    "## Introduction"
   ]
  },
  {
   "cell_type": "markdown",
   "metadata": {},
   "source": [
    "## The curse of Dimensionality\n",
    "\n",
    "Humans are bound by their perception of a maximum of three dimensions. We can’t comprehend shapes/graphs beyond three dimensions. Often, data scientists get datasets which have thousands of features. They give birth to two kinds of problems:\n",
    "\n",
    "* **Increase in computation time:** Majority of the machine learning algorithms they rely on the calculation of distance for model building and as the number of dimensions increases it becomes more and more computation-intensive to create a model out of it. For example, if we have to calculate the distance between two points in just one dimension, like two points on the number line, we’ll just subtract the coordinate of one point from another and then take the magnitude:\n",
    "\n",
    "Distance= $ x_1-x_2 $\n",
    "\n",
    "What if we need to calculate the distance between two points in two dimensions?\n",
    "\n",
    "The same formula translates to:\n",
    "Distance= $ \\sqrt {(x_1-x_2)^2+(y_1-y_2)^2} $\n",
    "\n",
    "What if we need to calculate the distance between two points in three dimensions?\n",
    "\n",
    "The same formula translates to:\n",
    "Distance= $ \\sqrt {(x_1-x_2)^2+(y_1-y_2)^2+(z_1-z_2)^2}$\n",
    "\n",
    "And for N-dimensions, the formula becomes:\n",
    "Distance=$ \\sqrt {(a_1-a_2)^2+(b_1-b_2)^2+(c_1-c_2)^2+…+(n_1-n_2)^2} $\n",
    "\n",
    "This is the effort of calculating the distance between two points. Just imagine the number of calculations involved for all the data points involved.\n",
    "\n",
    "One more point to consider is that as the number of dimension increases, points are going far away from each other. This means that any new point that comes when we are testing the model is going to be farther away from our training points. This leads to a less reliable model, and it makes our model overfitted to the training data.\n",
    "\n",
    "\n",
    "\n",
    "* **Hard (or almost impossible) to visualise the relationship between features:** As stated above, humans can not comprehend things beyond three dimensions. So, if we have an n-dimensional dataset, the only solution left to us is to create either a 2-D or 3-D graph out of it. Let’s say for simplicity, we are creating 2-D graphs. Suppose we have 1000 features in the dataset. That results in a  total (1000*999)/2= 499500 combinations possible for creating the 2-D graph.\n",
    "\n",
    "Is it humanly possible to analyse all those graphs to understand the relationship between the variables?\n",
    "\n",
    "**The questions that we need to ask at this point are:**\n",
    "\n",
    "* Are all the features really contributing to decision making?\n",
    "* Is there a way to come to the same conclusion using a lesser number of features?\n",
    "* Is there a way to combine features to create a new feature and drop the old ones?\n",
    "* Is there a way to remodel features in a way to make them visually comprehensible?\n",
    "\n",
    "The answer to all the above questions is- _Dimensionality Reduction technique._\n",
    "\n"
   ]
  },
  {
   "cell_type": "markdown",
   "metadata": {},
   "source": [
    "## What is a Dimensionality Reduction Technique?\n",
    "\n",
    "Dimensionality reduction is a feature selection technique using which we reduce the number of features to be used for making a model without losing a significant amount of information compared to the original dataset. In other words, a dimensionality reduction technique projects a data of higher dimension to a lower-dimensional subspace.\n",
    "\n",
    "**When to use Dimensionality Reduction?**\n",
    "Dimensionality reduction shall be used before feeding the data to a machine learning algorithm to achieve the following:\n",
    "\n",
    "* It reduces the size of the space in which the distances are calculated, thereby improving machine learning algorithm performance.\n",
    "* It reduces the degrees of freedom for our dataset avoiding chances of overfitting\n",
    "* Reducing the dimensionality using dimensionality reduction techniques can simplify the dataset facilitating a better description, visualisation, and insight.\n"
   ]
  },
  {
   "cell_type": "markdown",
   "metadata": {},
   "source": [
    "## Principal Component Analysis: \n",
    "The principal component analysis is an unsupervised machine learning algorithm used for feature selection using dimensionality reduction techniques. As the name suggests, it finds out the principal components from the data. PCA transforms and fits the data from a higher-dimensional space to a new, lower-dimensional subspace This results into an entirely new coordinate system of the points where the first axis corresponds to the first principal component that explains the most variance in the data.\n",
    "\n",
    "**What are the principal components?**\n",
    "Principal components are the derived features which explain the maximum variance in the data. The first principal component explains the most variance, the 2nd a bit less and so on. Each of the new dimensions found using PCA is a linear combination of the old features.\n",
    "\n",
    "Let's take the following example where the data is distributed like the diagram on the left:\n",
    "<img src=\"https://i.imgur.com/b5hje0c.png\" width=\"500\">\n",
    "\n",
    "\n"
   ]
  },
  {
   "cell_type": "markdown",
   "metadata": {},
   "source": [
    "In the diagram above, we are considering 3 orthogonal(_C3  is in the third dimension_) axes to show the distribution of data. If you notice the diagram on the right, the first two axes **C1** and **C2** successfully explain the maximum variation in the data whereas the axes **C3** only consists of a fewer number of points. Hence, while considering the principal components C1 and C2 will be our choices."
   ]
  },
  {
   "cell_type": "markdown",
   "metadata": {},
   "source": [
    "## Mathematics Behind PCA\n",
    "We are going to discuss PCA using a method called Singular Value Decomposition (SVD) which factorises the dataset matrix in such a way that it becomes a  product of the multiplication of three individual matrices:\n",
    "\n",
    "X(original Data)= $ U* \\Sigma* V^T$\n",
    "\n",
    "Where V is the matrix that contains the principal components.\n"
   ]
  },
  {
   "cell_type": "markdown",
   "metadata": {},
   "source": [
    "**Pre-requisite:** PCA assumes that the mean of all the individual columns is zero and the standard deviation is 1. So, before applying PCA, the data should be pre-processed appropriately."
   ]
  },
  {
   "cell_type": "markdown",
   "metadata": {},
   "source": [
    "Let’s take a simple example to understand it: \n",
    "\n",
    "Let’s suppose we have the following dataset:\n",
    "\n",
    "<img src=\"https://i.imgur.com/aMYDvWh.png\" width=\"300\">\n"
   ]
  },
  {
   "cell_type": "markdown",
   "metadata": {},
   "source": [
    "#### Steps to Calculate PCA\n",
    "* Let’s plot this on the XY plane and calculate the average of the magnitude of all the points. Blue ones are the actual points and the yellow one is the average point.\n",
    "\n",
    "<img src=\"https://i.imgur.com/hytmZ5P.png\" width=\"300\">\n",
    "\n",
    "* Move the points so that the average point is on the origin. This is called a parallel translation. Although the coordinates of the points have changed, the corresponding distances among them remain the same.\n",
    "\n",
    "<img src=\"https://i.imgur.com/KaINfxe.png\" width=\"300\">\n",
    "\n",
    "* Create the best fit line for the new data points. We first start with a random line(blue one), and then try to find the best fit line(the green one) so that the distance from individual data points is minimum and consequently the distance from origin is maximum. This best fit line is called Principal component1 or PC1.\n",
    "\n",
    "<img src=\"https://i.imgur.com/XcQ3ZWU.png\" width=\"300\">\n",
    "\n",
    "* PC2 is a line perpendicular to the PC1.\n",
    "* Then the axes PC1 and PC2 are rotated in a way that PC1 becomes the horizontal axis.\n",
    "<img src=\"https://i.imgur.com/fU2AbcU.png\" width=\"300\">\n",
    "* Then based on the sample points the new points are projected using PC1 and PC2. Thus we get the derived features. \n",
    "<img src=\"https://i.imgur.com/pYNOcd8.png\" width=\"300\">"
   ]
  },
  {
   "cell_type": "markdown",
   "metadata": {},
   "source": [
    "But the question is: if we talk about n dimensions, there are n-1 perpendicular lines possible on PC1. **How to select a line as PC2?**\n",
    "\n",
    "And the next question is: **what is the optimum number of Principal components needed?**\n"
   ]
  },
  {
   "cell_type": "markdown",
   "metadata": {},
   "source": [
    "#### Explained Variance Ratio\n",
    "\n",
    "All of the above questions are answered using the *explained variance ratio*. It represents the amount of variance each principal component is able to explain.\n",
    "\n",
    "For example, suppose if the square of distances of all the points from the origin that lie on PC1 is 50 and for the points on PC2 it’s 5.\n",
    "\n",
    "EVR of PC1=$\\frac{Distance of PC1 points}{( Distance of PC1 points+ Distance of PC2 points)}=\\frac{50}{55}=0.91 $\n",
    "\n",
    "EVR of PC2=$\\frac{Distance of PC2 points}{( Distance of PC1 points+ Distance of PC2 points)}=\\frac{5}{55}=0.09 $\n",
    "\n",
    "\n",
    "Thus PC1 explains 91% of the variance of data. Whereas, PC2 only explains 9% of the variance. Hence we can use only PC1 as the input for our model as it explains the majority of the variance.\n",
    "\n",
    "In a real-life scenario, this problem is solved using the **Scree Plots**\n"
   ]
  },
  {
   "cell_type": "markdown",
   "metadata": {},
   "source": [
    "## Scree Plots:\n",
    "Scree plots are the graphs that convey how much variance is explained by corresponding Principal components. \n",
    "<img src=\"https://i.imgur.com/jxfxBsK.png\" width=\"500\">\n",
    "\n",
    "As shown in the given diagram, around 75 principal components explain approximately 90 % of the variance. Hence, 75 can be a good choice based on the scenario\n"
   ]
  },
  {
   "cell_type": "markdown",
   "metadata": {},
   "source": [
    "### Explaining the Maths involved through code"
   ]
  },
  {
   "cell_type": "code",
   "execution_count": 1,
   "metadata": {},
   "outputs": [
    {
     "name": "stdout",
     "output_type": "stream",
     "text": [
      "Array:\n",
      "[[ 3  7]\n",
      " [-4 -6]\n",
      " [ 7  8]\n",
      " [ 1 -1]\n",
      " [-4 -1]\n",
      " [-3 -7]]\n",
      "---\n",
      "Dimensions:\n",
      "(6, 2)\n",
      "---\n",
      "Mean across Rows:\n",
      "[0. 0.]\n"
     ]
    }
   ],
   "source": [
    "import numpy as np\n",
    "# Creating an Array\n",
    "A = np.array([\n",
    "        [ 3,  7],\n",
    "        [-4, -6],\n",
    "        [ 7,  8],\n",
    "        [ 1, -1],\n",
    "        [-4, -1],\n",
    "        [-3, -7]\n",
    "    ])\n",
    "\n",
    "m,n = A.shape # m-observations, n-features\n",
    "\n",
    "print(\"Array:\")\n",
    "print(A) # our array\n",
    "\n",
    "print(\"---\")\n",
    "print(\"Dimensions:\")\n",
    "print(A.shape) # shape\n",
    "\n",
    "print(\"---\")\n",
    "print(\"Mean across Rows:\")\n",
    "print(np.mean(A,axis=0))"
   ]
  },
  {
   "cell_type": "code",
   "execution_count": 2,
   "metadata": {},
   "outputs": [
    {
     "name": "stdout",
     "output_type": "stream",
     "text": [
      "   a0  a1\n",
      "0   3   7\n",
      "1  -4  -6\n",
      "2   7   8\n",
      "3   1  -1\n",
      "4  -4  -1\n",
      "5  -3  -7\n"
     ]
    }
   ],
   "source": [
    "# Converting the array into a DataFrame ...\n",
    "import pandas as pd\n",
    "df = pd.DataFrame(A, columns = ['a0', 'a1'])\n",
    "print(df)"
   ]
  },
  {
   "cell_type": "code",
   "execution_count": 3,
   "metadata": {},
   "outputs": [
    {
     "data": {
      "text/plain": [
       "array([[ 3,  7],\n",
       "       [-4, -6],\n",
       "       [ 7,  8],\n",
       "       [ 1, -1],\n",
       "       [-4, -1],\n",
       "       [-3, -7]])"
      ]
     },
     "execution_count": 3,
     "metadata": {},
     "output_type": "execute_result"
    }
   ],
   "source": [
    "# ... and a dataframe can as easily be converted to an array\n",
    "df.values"
   ]
  },
  {
   "cell_type": "markdown",
   "metadata": {},
   "source": [
    "### Covariance\n",
    "\n",
    "_Variance_ is the measure of how a variable changes or varies and _co_ means together. Hence, _covariance_ is the measure of how two variables change together.\n",
    "<img src=\"https://i.imgur.com/tvej2WL.png\" width=\"500\">\n",
    "\n",
    "If the covariance is high, it means that the variables are highly correlated and change in one results in a change in the other one too.\n",
    "Generally, we avoid using highly correlated variables in building a machine learning model."
   ]
  },
  {
   "cell_type": "code",
   "execution_count": 4,
   "metadata": {},
   "outputs": [],
   "source": [
    "import matplotlib\n",
    "import matplotlib.pyplot as plt\n",
    "%matplotlib inline\n",
    "\n",
    "# makes charts pretty\n",
    "import seaborn as sns\n",
    "sns.set(color_codes=True)"
   ]
  },
  {
   "cell_type": "code",
   "execution_count": 7,
   "metadata": {},
   "outputs": [],
   "source": [
    "# # plots\n",
    "# plt.scatter(A[:,0],A[:,1])   # create a scatter plot \n",
    "\n",
    "# # annotations\n",
    "# for i in range(m):\n",
    "#     plt.annotate('('+str(A[i,0])+','+str(A[i,1])+')',(A[i,0]+0.2,A[i,1]+0.2))\n",
    "\n",
    "# # axes\n",
    "# plt.plot([-6,8],[0,0],'grey') # x-axis\n",
    "# plt.plot([0,0],[-8,10],'grey') # y-axis\n",
    "# plt.axis([-6, 8, -8, 10])\n",
    "# plt.axes().set_aspect('equal')\n",
    "\n",
    "# # labels\n",
    "# plt.xlabel(\"$a_0$\")\n",
    "# plt.ylabel(\"$a_1$\")\n",
    "# plt.title(\"Dataset $A$\")"
   ]
  },
  {
   "cell_type": "markdown",
   "metadata": {},
   "source": [
    "Sample covariance between $a_0$ and $a_1$:\n",
    "\n",
    "$$\n",
    "cov_{a_0,a_1} =\\frac{\\sum_{k=0}^{m-1}(a_0^k - \\bar{a_0})(a_1^k - \\bar{a_1})}{m-1}\n",
    "$$\n",
    "\n",
    "where $\\bar{a_0}$ is the mean of column $a_0$ and $\\bar{a_1}$ is the mean of column $a_1$"
   ]
  },
  {
   "cell_type": "code",
   "execution_count": 8,
   "metadata": {},
   "outputs": [],
   "source": [
    "# # Calculate covariance of a0 and a1\n",
    "# a0 = A[:,0]\n",
    "# a1 = A[:,1]\n",
    "# product = a0*a1 # element-wise product\n",
    "# print(\"Length of prod equals \" + str(len(product)))\n",
    "# print(\"---\")\n",
    "# print(\"Covariance:\")\n",
    "# print(np.sum(prod)/(m-1))"
   ]
  },
  {
   "cell_type": "code",
   "execution_count": 9,
   "metadata": {},
   "outputs": [
    {
     "data": {
      "text/plain": [
       "array([[20., 25.],\n",
       "       [25., 40.]])"
      ]
     },
     "execution_count": 9,
     "metadata": {},
     "output_type": "execute_result"
    }
   ],
   "source": [
    "# Get more stuff using NumPy's covariance method\n",
    "np.cov(a0,a1)"
   ]
  },
  {
   "cell_type": "markdown",
   "metadata": {},
   "source": [
    "The Linear Algebra way:\n",
    "$$\n",
    "\\Sigma = \\frac{A^TA}{(m-1)}\n",
    "$$"
   ]
  },
  {
   "cell_type": "code",
   "execution_count": 10,
   "metadata": {},
   "outputs": [
    {
     "data": {
      "text/plain": [
       "array([[ 3, -4,  7,  1, -4, -3],\n",
       "       [ 7, -6,  8, -1, -1, -7]])"
      ]
     },
     "execution_count": 10,
     "metadata": {},
     "output_type": "execute_result"
    }
   ],
   "source": [
    "# What is A.T?\n",
    "A.T # This is the transpose of matrix A"
   ]
  },
  {
   "cell_type": "code",
   "execution_count": 11,
   "metadata": {},
   "outputs": [
    {
     "data": {
      "text/plain": [
       "array([[100, 125],\n",
       "       [125, 200]])"
      ]
     },
     "execution_count": 11,
     "metadata": {},
     "output_type": "execute_result"
    }
   ],
   "source": [
    "# Matrix Multiplication, @ operator is used for calculating the dot product of two matrices\n",
    "A.T @ A # or np.dot(A.T,A)"
   ]
  },
  {
   "cell_type": "code",
   "execution_count": 12,
   "metadata": {},
   "outputs": [
    {
     "data": {
      "text/plain": [
       "array([[20., 25.],\n",
       "       [25., 40.]])"
      ]
     },
     "execution_count": 12,
     "metadata": {},
     "output_type": "execute_result"
    }
   ],
   "source": [
    "# As stated in the formula now we need to divide the  product by (m-1) to yield true Sample Covariance Matrix\n",
    "# Let's call it Sigma\n",
    "Sigma = (A.T @ A)/(m-1) # or np.cov(A.T)\n",
    "Sigma"
   ]
  },
  {
   "cell_type": "markdown",
   "metadata": {},
   "source": [
    "### Eigen-decomposition of $\\Sigma$\n",
    "\n",
    "According to [Wikipedia article on PCA](https://en.m.wikipedia.org/wiki/Principal_component_analysis), *\"PCA can be done by eigenvalue decomposition of a data covariance (or correlation) matrix or singular value decomposition of a data matrix.\"* The second approach has already been discussed above. Let's discuss the first approach now.\n",
    "\n",
    "$\\Sigma$ is a real, symmetric matrix; thus, it has \n",
    "\n",
    "1) real eigenvalues, and\n",
    "\n",
    "2) orthogonal eigenvectors.\n",
    "\n",
    "Definition:\n",
    "\n",
    "An **eigenvector v** of a linear transformation **T** is a nonzero vector that, when **T** is applied to it, does not change direction. Applying __T__ to the eigenvector only scales the eigenvector by the scalar value λ, called an **eigenvalue**. This condition can be written as the equation\n",
    "\n",
    "$$\n",
    "{\\displaystyle T(\\mathbf {v} )=\\lambda \\mathbf {v} ,} \n",
    "$$"
   ]
  },
  {
   "cell_type": "code",
   "execution_count": 13,
   "metadata": {},
   "outputs": [
    {
     "name": "stdout",
     "output_type": "stream",
     "text": [
      "Eigenvalues:\n",
      "[ 3.07417596 56.92582404]\n",
      "---\n",
      "Eigenvectors:\n",
      "[[-0.82806723 -0.56062881]\n",
      " [ 0.56062881 -0.82806723]]\n"
     ]
    }
   ],
   "source": [
    "# obtaining the eigenvalues and eigen vectors for the matrix Sigma\n",
    "l, X = np.linalg.eig(Sigma)\n",
    "print(\"Eigenvalues:\")\n",
    "print(l)\n",
    "print(\"---\")\n",
    "print(\"Eigenvectors:\")\n",
    "print(X)"
   ]
  },
  {
   "cell_type": "markdown",
   "metadata": {},
   "source": [
    "Recall from your Linear Algebra class that the following should hold:\n",
    "\n",
    "\\begin{eqnarray}\n",
    "\\Sigma x_0 &=& \\lambda_0 x_0 \\nonumber \\\\\n",
    "\\Sigma x_1 &=& \\lambda_1 x_1 \\nonumber \\\\\n",
    "\\end{eqnarray}"
   ]
  },
  {
   "cell_type": "code",
   "execution_count": 14,
   "metadata": {},
   "outputs": [
    {
     "name": "stdout",
     "output_type": "stream",
     "text": [
      "Sigma times eigenvector:\n",
      "[-2.54562438  1.72347161]\n",
      "Eigenvalue times eigenvector:\n",
      "[-2.54562438  1.72347161]\n"
     ]
    }
   ],
   "source": [
    "# let's check the first Eigenvalue, Eigenvector combination\n",
    "print(\"Sigma times eigenvector:\")\n",
    "print(Sigma @ X[:,0]) # 2x2 times 2x1\n",
    "print(\"Eigenvalue times eigenvector:\")\n",
    "print(l[0] * X[:,0]) # scalar times 2x1"
   ]
  },
  {
   "cell_type": "code",
   "execution_count": 15,
   "metadata": {},
   "outputs": [
    {
     "name": "stdout",
     "output_type": "stream",
     "text": [
      "Sigma times eigenvector:\n",
      "[-31.91425695 -47.13840945]\n",
      "Eigenvalue times eigenvector:\n",
      "[-31.91425695 -47.13840945]\n"
     ]
    }
   ],
   "source": [
    "# ... and the product with the second eigenvalue\n",
    "print(\"Sigma times eigenvector:\")\n",
    "print(Sigma @ X[:,1]) # 2x2 times 2x1\n",
    "print(\"Eigenvalue times eigenvector:\")\n",
    "print(l[1] * X[:,1]) # scalar times 2x1, ANNOYING - MUST USE * vs. @"
   ]
  },
  {
   "cell_type": "code",
   "execution_count": 16,
   "metadata": {},
   "outputs": [
    {
     "name": "stdout",
     "output_type": "stream",
     "text": [
      "The first principal component is eigenvector with largest evalue:\n",
      "[-0.56062881 -0.82806723]\n",
      "---\n",
      "Second principal component:\n",
      "[-0.82806723  0.56062881]\n"
     ]
    }
   ],
   "source": [
    "print(\"The first principal component is eigenvector with largest evalue:\")\n",
    "print(X[:,1])\n",
    "print(\"---\")\n",
    "print(\"Second principal component:\")\n",
    "print(X[:,0])"
   ]
  },
  {
   "cell_type": "code",
   "execution_count": 17,
   "metadata": {},
   "outputs": [
    {
     "data": {
      "text/plain": [
       "0.0"
      ]
     },
     "execution_count": 17,
     "metadata": {},
     "output_type": "execute_result"
    }
   ],
   "source": [
    "# Are the two Principal components Orthogonal? If the dot product of two matrices is zero, then they are considered to be orthogonal\n",
    "X[:,1].T @ X[:,0]"
   ]
  },
  {
   "cell_type": "code",
   "execution_count": 21,
   "metadata": {
    "scrolled": true
   },
   "outputs": [],
   "source": [
    "# # plotting the Eigen Vectors\n",
    "# plt.scatter(A[:,0],A[:,1])\n",
    "# scale = 3 # increase this scaling factor to highlight these vectors\n",
    "# plt.plot([0,X[0,1]*scale],[0,X[1,1]*scale],'r') # First principal component\n",
    "# plt.plot([0,X[0,0]*scale],[0,X[1,0]*scale],'g') # Second principal component\n",
    "\n",
    "# # annotations\n",
    "# for i in range(m):\n",
    "#     plt.annotate('('+str(A[i,0])+','+str(A[i,1])+')',(A[i,0]+0.2,A[i,1]+0.2))\n",
    "\n",
    "# # axes\n",
    "# plt.plot([-6,8],[0,0],'grey') # x-axis\n",
    "# plt.plot([0,0],[-8,10],'grey') # y-axis\n",
    "# plt.axis([-6, 8, -8, 10])\n",
    "# plt.axes().set_aspect('equal')\n",
    "\n",
    "# # labels\n",
    "# plt.xlabel(\"$a_0$\")\n",
    "# plt.ylabel(\"$a_1$\")\n",
    "# plt.title(\"Eigenvectors of $\\Sigma$\")"
   ]
  },
  {
   "cell_type": "markdown",
   "metadata": {},
   "source": [
    "#### Dimensionality Reduction: 2D to 1D"
   ]
  },
  {
   "cell_type": "code",
   "execution_count": 22,
   "metadata": {},
   "outputs": [
    {
     "data": {
      "text/plain": [
       "matrix([[ 3,  7],\n",
       "        [-4, -6],\n",
       "        [ 7,  8],\n",
       "        [ 1, -1],\n",
       "        [-4, -1],\n",
       "        [-3, -7]])"
      ]
     },
     "execution_count": 22,
     "metadata": {},
     "output_type": "execute_result"
    }
   ],
   "source": [
    "# change to matrix\n",
    "Amat = np.asmatrix(A)\n",
    "Xmat = np.asmatrix(X)\n",
    "Amat"
   ]
  },
  {
   "cell_type": "code",
   "execution_count": 23,
   "metadata": {},
   "outputs": [
    {
     "data": {
      "text/plain": [
       "matrix([[-0.56062881],\n",
       "        [-0.82806723]])"
      ]
     },
     "execution_count": 23,
     "metadata": {},
     "output_type": "execute_result"
    }
   ],
   "source": [
    "# Choose eigenvector with highest eigenvalue as first principal component\n",
    "pc1 = Xmat[:,1]\n",
    "pc1"
   ]
  },
  {
   "cell_type": "code",
   "execution_count": 24,
   "metadata": {},
   "outputs": [
    {
     "name": "stdout",
     "output_type": "stream",
     "text": [
      "Compressed version of A:\n",
      "[[ -7.47835704]\n",
      " [  7.21091862]\n",
      " [-10.54893951]\n",
      " [  0.26743842]\n",
      " [  3.07058247]\n",
      " [  7.47835704]]\n"
     ]
    }
   ],
   "source": [
    "Acomp = Amat @ pc1 # the dot product of a 6x2 and 2x1 matrix yields a 6x1 matrix\n",
    "print(\"Compressed version of A:\")\n",
    "print(Acomp)"
   ]
  },
  {
   "cell_type": "code",
   "execution_count": 25,
   "metadata": {},
   "outputs": [
    {
     "name": "stdout",
     "output_type": "stream",
     "text": [
      "Reconstruction from 1D compression of A:\n",
      "[[ 4.1925824   6.1925824 ]\n",
      " [-4.04264872 -5.97112541]\n",
      " [ 5.9140394   8.73523112]\n",
      " [-0.14993368 -0.22145699]\n",
      " [-1.72145699 -2.54264872]\n",
      " [-4.1925824  -6.1925824 ]]\n"
     ]
    }
   ],
   "source": [
    "Arec = Acomp @ pc1.T # the dot product of a  6x1 matrix and 1x2 matrix results into a 6x2 matrix\n",
    "print(\"Reconstruction from 1D compression of A:\")\n",
    "print(Arec)"
   ]
  },
  {
   "cell_type": "code",
   "execution_count": 28,
   "metadata": {},
   "outputs": [],
   "source": [
    "# plt.plot(Arec[:,0],Arec[:,1],'r', marker='o') # Arec in RED\n",
    "\n",
    "# # axes\n",
    "# plt.plot([-6,8],[0,0],'grey') # x-axis\n",
    "# plt.plot([0,0],[-8,10],'grey') # y-axis\n",
    "# plt.axis([-6, 8, -8, 10])\n",
    "# plt.axes().set_aspect('equal')\n",
    "\n",
    "# # labels\n",
    "# plt.xlabel(\"$a_0$\")\n",
    "# plt.ylabel(\"$a_1$\")\n",
    "# plt.title(\"Reconstructing the 1D compression of $A$\")"
   ]
  },
  {
   "cell_type": "code",
   "execution_count": 29,
   "metadata": {},
   "outputs": [
    {
     "name": "stdout",
     "output_type": "stream",
     "text": [
      "2\n",
      "1\n"
     ]
    }
   ],
   "source": [
    "print(np.linalg.matrix_rank(Amat)) # originally a Rank 2 matrix\n",
    "print(np.linalg.matrix_rank(Arec)) # reconstructed matrix is Rank 1"
   ]
  },
  {
   "cell_type": "markdown",
   "metadata": {},
   "source": [
    "By taking on the Rank-1 matrix related to the 2nd eigenvector you get back to the original data"
   ]
  },
  {
   "cell_type": "code",
   "execution_count": 30,
   "metadata": {},
   "outputs": [
    {
     "data": {
      "text/plain": [
       "matrix([[ 3.,  7.],\n",
       "        [-4., -6.],\n",
       "        [ 7.,  8.],\n",
       "        [ 1., -1.],\n",
       "        [-4., -1.],\n",
       "        [-3., -7.]])"
      ]
     },
     "execution_count": 30,
     "metadata": {},
     "output_type": "execute_result"
    }
   ],
   "source": [
    "# Add the Rank 1 matrix for the other vector to recover A completely\n",
    "# Here we are taking the dot product of matrix A with the principal components and the transpose of the principal components\n",
    "Amat @ Xmat[:,1] @ Xmat[:,1].T + Amat @ Xmat[:,0] @ Xmat[:,0].T"
   ]
  },
  {
   "cell_type": "code",
   "execution_count": 31,
   "metadata": {},
   "outputs": [
    {
     "data": {
      "text/plain": [
       "matrix([[ 3.,  7.],\n",
       "        [-4., -6.],\n",
       "        [ 7.,  8.],\n",
       "        [ 1., -1.],\n",
       "        [-4., -1.],\n",
       "        [-3., -7.]])"
      ]
     },
     "execution_count": 31,
     "metadata": {},
     "output_type": "execute_result"
    }
   ],
   "source": [
    "# Why does this work? Well, recall that the dot product of a matrix and its transpose (X @ X.T) is an identity matrix as X is orthonormal\n",
    "# Hence the entire expression becomes equivalent to multiplying a matrix with a unit matrix which returns the matrix itself.\n",
    "A @ Xmat @ Xmat.T"
   ]
  },
  {
   "cell_type": "code",
   "execution_count": 33,
   "metadata": {},
   "outputs": [],
   "source": [
    "# # plots\n",
    "# plt.scatter(A[:,0], A[:,1]) # A in blue\n",
    "# plt.plot(Arec[:,0],Arec[:,1],'r', marker='o') # Arec in RED\n",
    "\n",
    "# # across observations\n",
    "# for i in range(m):\n",
    "#     e = np.vstack((A[i],Arec[i]))\n",
    "#     plt.plot(e[:,0],e[:,1],'b') # BLUE\n",
    "\n",
    "# # axes\n",
    "# plt.plot([-6,8],[0,0],'grey') # x-axis\n",
    "# plt.plot([0,0],[-8,10],'grey') # y-axis\n",
    "# plt.axis([-6, 8, -8, 10])\n",
    "# plt.axes().set_aspect('equal')\n",
    "\n",
    "# # labels\n",
    "# plt.xlabel(\"$a_0$\")\n",
    "# plt.ylabel(\"$a_1$\")\n",
    "# plt.title(\"Back to $A$\")"
   ]
  },
  {
   "cell_type": "markdown",
   "metadata": {},
   "source": [
    "### Summary of Eigen-decomposition Approach\n",
    "1. Normalize columns of $A$ so that each feature has a mean of zero\n",
    "1. Compute sample covariance matrix $\\Sigma = {A^TA}/{(m-1)}$\n",
    "1. Perform eigen-decomposition of $\\Sigma$ using `np.linalg.eig(Sigma)`\n",
    "1. Compress by ordering $k$ evectors according to largest e-values and compute $AX_k$\n",
    "1. Reconstruct from the compressed version by computing $A X_k X_k^T$\n"
   ]
  },
  {
   "cell_type": "markdown",
   "metadata": {},
   "source": [
    "All the above steps can be summarized with the following gif.\n",
    "[Wicked animated GIF which illustrates PCA](http://stats.stackexchange.com/questions/2691/making-sense-of-principal-component-analysis-eigenvectors-eigenvalues)\n",
    "\n",
    "Magically, eigen-decomposition (or PCA) finds the line where\n",
    "1. the spread of values along the black line is **maximal**\n",
    "2. the projection error (sum of red lines) is **minimal**\n",
    "\n",
    "<img src=\"https://i.stack.imgur.com/Q7HIP.gif\">"
   ]
  },
  {
   "cell_type": "markdown",
   "metadata": {},
   "source": [
    "######################################################"
   ]
  },
  {
   "cell_type": "markdown",
   "metadata": {},
   "source": [
    "## Python Implementation on Twitter UK Dataset"
   ]
  },
  {
   "cell_type": "code",
   "execution_count": 34,
   "metadata": {},
   "outputs": [],
   "source": [
    "import pandas as pd\n",
    "import numpy as np\n",
    "import matplotlib.pyplot as plt\n",
    "%matplotlib inline"
   ]
  },
  {
   "cell_type": "code",
   "execution_count": 35,
   "metadata": {},
   "outputs": [],
   "source": [
    "# we are using the free glass datset.\n",
    "# The objective is to tell the type of glass based on amount of other elements present.\n",
    "data_df = pd.read_csv(r'C:\\Users\\r04ra18\\Desktop\\Esraa-project-data\\final-Essra-project\\dataset\\numerical-data\\final-ready-for-clustring\\output_X_num_cols_uk_final.csv')"
   ]
  },
  {
   "cell_type": "code",
   "execution_count": 36,
   "metadata": {},
   "outputs": [
    {
     "data": {
      "text/html": [
       "<div>\n",
       "<style scoped>\n",
       "    .dataframe tbody tr th:only-of-type {\n",
       "        vertical-align: middle;\n",
       "    }\n",
       "\n",
       "    .dataframe tbody tr th {\n",
       "        vertical-align: top;\n",
       "    }\n",
       "\n",
       "    .dataframe thead th {\n",
       "        text-align: right;\n",
       "    }\n",
       "</style>\n",
       "<table border=\"1\" class=\"dataframe\">\n",
       "  <thead>\n",
       "    <tr style=\"text-align: right;\">\n",
       "      <th></th>\n",
       "      <th>Unnamed: 0</th>\n",
       "      <th>author_id</th>\n",
       "      <th>author_followers</th>\n",
       "      <th>author_tweets</th>\n",
       "      <th>retweets</th>\n",
       "      <th>replies</th>\n",
       "      <th>likes</th>\n",
       "      <th>quote_count</th>\n",
       "      <th>Year</th>\n",
       "      <th>Month</th>\n",
       "      <th>...</th>\n",
       "      <th>scores_text</th>\n",
       "      <th>scores_extracted_hashtags</th>\n",
       "      <th>support_scores_clst</th>\n",
       "      <th>neutral_scores_clst</th>\n",
       "      <th>against_scores_clst</th>\n",
       "      <th>total</th>\n",
       "      <th>support_scores</th>\n",
       "      <th>neutral_scores</th>\n",
       "      <th>against_scores</th>\n",
       "      <th>all_label</th>\n",
       "    </tr>\n",
       "  </thead>\n",
       "  <tbody>\n",
       "    <tr>\n",
       "      <th>0</th>\n",
       "      <td>0</td>\n",
       "      <td>1.950682e-10</td>\n",
       "      <td>0.022759</td>\n",
       "      <td>0.004112</td>\n",
       "      <td>0.0</td>\n",
       "      <td>0.002611</td>\n",
       "      <td>0.0</td>\n",
       "      <td>0.0</td>\n",
       "      <td>0.0</td>\n",
       "      <td>1.0</td>\n",
       "      <td>...</td>\n",
       "      <td>0.675000</td>\n",
       "      <td>0.0</td>\n",
       "      <td>0.0</td>\n",
       "      <td>1.0</td>\n",
       "      <td>0.0</td>\n",
       "      <td>1.0</td>\n",
       "      <td>0.766667</td>\n",
       "      <td>0.793103</td>\n",
       "      <td>0.750000</td>\n",
       "      <td>2</td>\n",
       "    </tr>\n",
       "    <tr>\n",
       "      <th>1</th>\n",
       "      <td>1</td>\n",
       "      <td>4.436345e-11</td>\n",
       "      <td>0.001213</td>\n",
       "      <td>0.002912</td>\n",
       "      <td>0.0</td>\n",
       "      <td>0.000000</td>\n",
       "      <td>0.0</td>\n",
       "      <td>0.0</td>\n",
       "      <td>0.0</td>\n",
       "      <td>1.0</td>\n",
       "      <td>...</td>\n",
       "      <td>0.766667</td>\n",
       "      <td>0.0</td>\n",
       "      <td>1.0</td>\n",
       "      <td>0.0</td>\n",
       "      <td>0.0</td>\n",
       "      <td>1.0</td>\n",
       "      <td>0.884615</td>\n",
       "      <td>0.846154</td>\n",
       "      <td>0.875000</td>\n",
       "      <td>0</td>\n",
       "    </tr>\n",
       "    <tr>\n",
       "      <th>2</th>\n",
       "      <td>2</td>\n",
       "      <td>1.714203e-09</td>\n",
       "      <td>0.018850</td>\n",
       "      <td>0.063480</td>\n",
       "      <td>0.0</td>\n",
       "      <td>0.000000</td>\n",
       "      <td>0.0</td>\n",
       "      <td>0.0</td>\n",
       "      <td>0.0</td>\n",
       "      <td>1.0</td>\n",
       "      <td>...</td>\n",
       "      <td>0.613636</td>\n",
       "      <td>0.0</td>\n",
       "      <td>1.0</td>\n",
       "      <td>0.0</td>\n",
       "      <td>0.0</td>\n",
       "      <td>1.0</td>\n",
       "      <td>0.892857</td>\n",
       "      <td>0.857143</td>\n",
       "      <td>0.750000</td>\n",
       "      <td>0</td>\n",
       "    </tr>\n",
       "    <tr>\n",
       "      <th>3</th>\n",
       "      <td>3</td>\n",
       "      <td>2.664491e-10</td>\n",
       "      <td>0.000878</td>\n",
       "      <td>0.008655</td>\n",
       "      <td>0.0</td>\n",
       "      <td>0.000000</td>\n",
       "      <td>0.0</td>\n",
       "      <td>0.0</td>\n",
       "      <td>0.0</td>\n",
       "      <td>1.0</td>\n",
       "      <td>...</td>\n",
       "      <td>0.619048</td>\n",
       "      <td>0.0</td>\n",
       "      <td>1.0</td>\n",
       "      <td>0.0</td>\n",
       "      <td>0.0</td>\n",
       "      <td>1.0</td>\n",
       "      <td>0.766667</td>\n",
       "      <td>0.793103</td>\n",
       "      <td>0.750000</td>\n",
       "      <td>2</td>\n",
       "    </tr>\n",
       "    <tr>\n",
       "      <th>4</th>\n",
       "      <td>4</td>\n",
       "      <td>1.420908e-11</td>\n",
       "      <td>0.002774</td>\n",
       "      <td>0.011359</td>\n",
       "      <td>0.0</td>\n",
       "      <td>0.000000</td>\n",
       "      <td>0.0</td>\n",
       "      <td>0.0</td>\n",
       "      <td>0.0</td>\n",
       "      <td>1.0</td>\n",
       "      <td>...</td>\n",
       "      <td>0.590909</td>\n",
       "      <td>0.0</td>\n",
       "      <td>0.0</td>\n",
       "      <td>1.0</td>\n",
       "      <td>0.0</td>\n",
       "      <td>1.0</td>\n",
       "      <td>0.793103</td>\n",
       "      <td>0.888889</td>\n",
       "      <td>0.846154</td>\n",
       "      <td>2</td>\n",
       "    </tr>\n",
       "  </tbody>\n",
       "</table>\n",
       "<p>5 rows × 33 columns</p>\n",
       "</div>"
      ],
      "text/plain": [
       "   Unnamed: 0     author_id  author_followers  author_tweets  retweets  \\\n",
       "0           0  1.950682e-10          0.022759       0.004112       0.0   \n",
       "1           1  4.436345e-11          0.001213       0.002912       0.0   \n",
       "2           2  1.714203e-09          0.018850       0.063480       0.0   \n",
       "3           3  2.664491e-10          0.000878       0.008655       0.0   \n",
       "4           4  1.420908e-11          0.002774       0.011359       0.0   \n",
       "\n",
       "    replies  likes  quote_count  Year  Month  ...  scores_text  \\\n",
       "0  0.002611    0.0          0.0   0.0    1.0  ...     0.675000   \n",
       "1  0.000000    0.0          0.0   0.0    1.0  ...     0.766667   \n",
       "2  0.000000    0.0          0.0   0.0    1.0  ...     0.613636   \n",
       "3  0.000000    0.0          0.0   0.0    1.0  ...     0.619048   \n",
       "4  0.000000    0.0          0.0   0.0    1.0  ...     0.590909   \n",
       "\n",
       "   scores_extracted_hashtags  support_scores_clst  neutral_scores_clst  \\\n",
       "0                        0.0                  0.0                  1.0   \n",
       "1                        0.0                  1.0                  0.0   \n",
       "2                        0.0                  1.0                  0.0   \n",
       "3                        0.0                  1.0                  0.0   \n",
       "4                        0.0                  0.0                  1.0   \n",
       "\n",
       "   against_scores_clst  total  support_scores  neutral_scores  against_scores  \\\n",
       "0                  0.0    1.0        0.766667        0.793103        0.750000   \n",
       "1                  0.0    1.0        0.884615        0.846154        0.875000   \n",
       "2                  0.0    1.0        0.892857        0.857143        0.750000   \n",
       "3                  0.0    1.0        0.766667        0.793103        0.750000   \n",
       "4                  0.0    1.0        0.793103        0.888889        0.846154   \n",
       "\n",
       "   all_label  \n",
       "0          2  \n",
       "1          0  \n",
       "2          0  \n",
       "3          2  \n",
       "4          2  \n",
       "\n",
       "[5 rows x 33 columns]"
      ]
     },
     "execution_count": 36,
     "metadata": {},
     "output_type": "execute_result"
    }
   ],
   "source": [
    "data_df.head()"
   ]
  },
  {
   "cell_type": "code",
   "execution_count": 37,
   "metadata": {},
   "outputs": [
    {
     "data": {
      "text/plain": [
       "Unnamed: 0                   0\n",
       "author_id                    0\n",
       "author_followers             0\n",
       "author_tweets                0\n",
       "retweets                     0\n",
       "replies                      0\n",
       "likes                        0\n",
       "quote_count                  0\n",
       "Year                         0\n",
       "Month                        0\n",
       "Day                          0\n",
       "Hour                         0\n",
       "Minute                       0\n",
       "Second                       0\n",
       "hastags_count                0\n",
       "mentions_count               0\n",
       "Period_id                    0\n",
       "score                        0\n",
       "PN_score_clst                0\n",
       "cluster_id                   0\n",
       "scores_author_descrip        0\n",
       "scores_username              0\n",
       "scores_location              0\n",
       "scores_text                  0\n",
       "scores_extracted_hashtags    0\n",
       "support_scores_clst          0\n",
       "neutral_scores_clst          0\n",
       "against_scores_clst          0\n",
       "total                        0\n",
       "support_scores               0\n",
       "neutral_scores               0\n",
       "against_scores               0\n",
       "all_label                    0\n",
       "dtype: int64"
      ]
     },
     "execution_count": 37,
     "metadata": {},
     "output_type": "execute_result"
    }
   ],
   "source": [
    "data_df.isna().sum()"
   ]
  },
  {
   "cell_type": "code",
   "execution_count": 38,
   "metadata": {},
   "outputs": [
    {
     "data": {
      "text/plain": [
       "Index(['Unnamed: 0', 'author_id', 'author_followers', 'author_tweets',\n",
       "       'retweets', 'replies', 'likes', 'quote_count', 'Year', 'Month', 'Day',\n",
       "       'Hour', 'Minute', 'Second', 'hastags_count', 'mentions_count',\n",
       "       'Period_id', 'score', 'PN_score_clst', 'cluster_id',\n",
       "       'scores_author_descrip', 'scores_username', 'scores_location',\n",
       "       'scores_text', 'scores_extracted_hashtags', 'support_scores_clst',\n",
       "       'neutral_scores_clst', 'against_scores_clst', 'total', 'support_scores',\n",
       "       'neutral_scores', 'against_scores', 'all_label'],\n",
       "      dtype='object')"
      ]
     },
     "execution_count": 38,
     "metadata": {},
     "output_type": "execute_result"
    }
   ],
   "source": [
    "data_df.columns"
   ]
  },
  {
   "cell_type": "code",
   "execution_count": 39,
   "metadata": {},
   "outputs": [],
   "source": [
    "data = data_df.drop(labels=['Unnamed: 0', 'cluster_id', 'PN_score_clst', 'support_scores_clst','neutral_scores_clst', 'against_scores_clst', 'total', 'all_label'], axis=1)"
   ]
  },
  {
   "cell_type": "code",
   "execution_count": 40,
   "metadata": {},
   "outputs": [
    {
     "data": {
      "text/html": [
       "<div>\n",
       "<style scoped>\n",
       "    .dataframe tbody tr th:only-of-type {\n",
       "        vertical-align: middle;\n",
       "    }\n",
       "\n",
       "    .dataframe tbody tr th {\n",
       "        vertical-align: top;\n",
       "    }\n",
       "\n",
       "    .dataframe thead th {\n",
       "        text-align: right;\n",
       "    }\n",
       "</style>\n",
       "<table border=\"1\" class=\"dataframe\">\n",
       "  <thead>\n",
       "    <tr style=\"text-align: right;\">\n",
       "      <th></th>\n",
       "      <th>author_id</th>\n",
       "      <th>author_followers</th>\n",
       "      <th>author_tweets</th>\n",
       "      <th>retweets</th>\n",
       "      <th>replies</th>\n",
       "      <th>likes</th>\n",
       "      <th>quote_count</th>\n",
       "      <th>Year</th>\n",
       "      <th>Month</th>\n",
       "      <th>Day</th>\n",
       "      <th>...</th>\n",
       "      <th>Period_id</th>\n",
       "      <th>score</th>\n",
       "      <th>scores_author_descrip</th>\n",
       "      <th>scores_username</th>\n",
       "      <th>scores_location</th>\n",
       "      <th>scores_text</th>\n",
       "      <th>scores_extracted_hashtags</th>\n",
       "      <th>support_scores</th>\n",
       "      <th>neutral_scores</th>\n",
       "      <th>against_scores</th>\n",
       "    </tr>\n",
       "  </thead>\n",
       "  <tbody>\n",
       "    <tr>\n",
       "      <th>count</th>\n",
       "      <td>1.226500e+04</td>\n",
       "      <td>12265.000000</td>\n",
       "      <td>12265.000000</td>\n",
       "      <td>12265.00000</td>\n",
       "      <td>12265.000000</td>\n",
       "      <td>12265.000000</td>\n",
       "      <td>12265.000000</td>\n",
       "      <td>12265.0</td>\n",
       "      <td>12265.000000</td>\n",
       "      <td>12265.000000</td>\n",
       "      <td>...</td>\n",
       "      <td>12265.000000</td>\n",
       "      <td>12265.000000</td>\n",
       "      <td>12265.000000</td>\n",
       "      <td>12265.000000</td>\n",
       "      <td>12265.000000</td>\n",
       "      <td>12265.000000</td>\n",
       "      <td>12265.000000</td>\n",
       "      <td>12265.000000</td>\n",
       "      <td>12265.000000</td>\n",
       "      <td>12265.000000</td>\n",
       "    </tr>\n",
       "    <tr>\n",
       "      <th>mean</th>\n",
       "      <td>1.467423e-01</td>\n",
       "      <td>0.010223</td>\n",
       "      <td>0.017405</td>\n",
       "      <td>0.00082</td>\n",
       "      <td>0.002161</td>\n",
       "      <td>0.001772</td>\n",
       "      <td>0.000978</td>\n",
       "      <td>0.0</td>\n",
       "      <td>0.334388</td>\n",
       "      <td>0.468792</td>\n",
       "      <td>...</td>\n",
       "      <td>0.260090</td>\n",
       "      <td>0.960207</td>\n",
       "      <td>0.527462</td>\n",
       "      <td>0.257230</td>\n",
       "      <td>0.335162</td>\n",
       "      <td>0.666785</td>\n",
       "      <td>0.104761</td>\n",
       "      <td>0.781650</td>\n",
       "      <td>0.773162</td>\n",
       "      <td>0.780429</td>\n",
       "    </tr>\n",
       "    <tr>\n",
       "      <th>std</th>\n",
       "      <td>2.979759e-01</td>\n",
       "      <td>0.032879</td>\n",
       "      <td>0.042396</td>\n",
       "      <td>0.01110</td>\n",
       "      <td>0.014180</td>\n",
       "      <td>0.015643</td>\n",
       "      <td>0.017052</td>\n",
       "      <td>0.0</td>\n",
       "      <td>0.261184</td>\n",
       "      <td>0.285111</td>\n",
       "      <td>...</td>\n",
       "      <td>0.438701</td>\n",
       "      <td>0.087044</td>\n",
       "      <td>0.136925</td>\n",
       "      <td>0.097766</td>\n",
       "      <td>0.118571</td>\n",
       "      <td>0.121375</td>\n",
       "      <td>0.198893</td>\n",
       "      <td>0.073067</td>\n",
       "      <td>0.070949</td>\n",
       "      <td>0.063371</td>\n",
       "    </tr>\n",
       "    <tr>\n",
       "      <th>min</th>\n",
       "      <td>0.000000e+00</td>\n",
       "      <td>0.000000</td>\n",
       "      <td>0.000000</td>\n",
       "      <td>0.00000</td>\n",
       "      <td>0.000000</td>\n",
       "      <td>0.000000</td>\n",
       "      <td>0.000000</td>\n",
       "      <td>0.0</td>\n",
       "      <td>0.000000</td>\n",
       "      <td>0.000000</td>\n",
       "      <td>...</td>\n",
       "      <td>0.000000</td>\n",
       "      <td>0.500271</td>\n",
       "      <td>0.000000</td>\n",
       "      <td>0.000000</td>\n",
       "      <td>0.000000</td>\n",
       "      <td>0.024390</td>\n",
       "      <td>0.000000</td>\n",
       "      <td>0.000000</td>\n",
       "      <td>0.000000</td>\n",
       "      <td>0.000000</td>\n",
       "    </tr>\n",
       "    <tr>\n",
       "      <th>25%</th>\n",
       "      <td>6.545417e-11</td>\n",
       "      <td>0.001152</td>\n",
       "      <td>0.001867</td>\n",
       "      <td>0.00000</td>\n",
       "      <td>0.000000</td>\n",
       "      <td>0.000000</td>\n",
       "      <td>0.000000</td>\n",
       "      <td>0.0</td>\n",
       "      <td>0.090909</td>\n",
       "      <td>0.233333</td>\n",
       "      <td>...</td>\n",
       "      <td>0.000000</td>\n",
       "      <td>0.974392</td>\n",
       "      <td>0.440000</td>\n",
       "      <td>0.192308</td>\n",
       "      <td>0.269231</td>\n",
       "      <td>0.577778</td>\n",
       "      <td>0.000000</td>\n",
       "      <td>0.750000</td>\n",
       "      <td>0.740741</td>\n",
       "      <td>0.750000</td>\n",
       "    </tr>\n",
       "    <tr>\n",
       "      <th>50%</th>\n",
       "      <td>2.819345e-10</td>\n",
       "      <td>0.002991</td>\n",
       "      <td>0.006556</td>\n",
       "      <td>0.00000</td>\n",
       "      <td>0.000000</td>\n",
       "      <td>0.000312</td>\n",
       "      <td>0.000000</td>\n",
       "      <td>0.0</td>\n",
       "      <td>0.363636</td>\n",
       "      <td>0.433333</td>\n",
       "      <td>...</td>\n",
       "      <td>0.000000</td>\n",
       "      <td>0.992872</td>\n",
       "      <td>0.533333</td>\n",
       "      <td>0.259259</td>\n",
       "      <td>0.343750</td>\n",
       "      <td>0.666667</td>\n",
       "      <td>0.000000</td>\n",
       "      <td>0.793103</td>\n",
       "      <td>0.785714</td>\n",
       "      <td>0.777778</td>\n",
       "    </tr>\n",
       "    <tr>\n",
       "      <th>75%</th>\n",
       "      <td>2.051696e-09</td>\n",
       "      <td>0.008099</td>\n",
       "      <td>0.019609</td>\n",
       "      <td>0.00000</td>\n",
       "      <td>0.002611</td>\n",
       "      <td>0.000936</td>\n",
       "      <td>0.000000</td>\n",
       "      <td>0.0</td>\n",
       "      <td>0.545455</td>\n",
       "      <td>0.700000</td>\n",
       "      <td>...</td>\n",
       "      <td>1.000000</td>\n",
       "      <td>0.997663</td>\n",
       "      <td>0.617647</td>\n",
       "      <td>0.321429</td>\n",
       "      <td>0.419355</td>\n",
       "      <td>0.757576</td>\n",
       "      <td>0.035714</td>\n",
       "      <td>0.821429</td>\n",
       "      <td>0.821429</td>\n",
       "      <td>0.814815</td>\n",
       "    </tr>\n",
       "    <tr>\n",
       "      <th>max</th>\n",
       "      <td>1.000000e+00</td>\n",
       "      <td>1.000000</td>\n",
       "      <td>1.000000</td>\n",
       "      <td>1.00000</td>\n",
       "      <td>1.000000</td>\n",
       "      <td>1.000000</td>\n",
       "      <td>1.000000</td>\n",
       "      <td>0.0</td>\n",
       "      <td>1.000000</td>\n",
       "      <td>1.000000</td>\n",
       "      <td>...</td>\n",
       "      <td>1.000000</td>\n",
       "      <td>0.999873</td>\n",
       "      <td>0.961538</td>\n",
       "      <td>0.650000</td>\n",
       "      <td>0.695652</td>\n",
       "      <td>1.000000</td>\n",
       "      <td>0.857143</td>\n",
       "      <td>1.000000</td>\n",
       "      <td>0.961538</td>\n",
       "      <td>1.000000</td>\n",
       "    </tr>\n",
       "  </tbody>\n",
       "</table>\n",
       "<p>8 rows × 25 columns</p>\n",
       "</div>"
      ],
      "text/plain": [
       "          author_id  author_followers  author_tweets     retweets  \\\n",
       "count  1.226500e+04      12265.000000   12265.000000  12265.00000   \n",
       "mean   1.467423e-01          0.010223       0.017405      0.00082   \n",
       "std    2.979759e-01          0.032879       0.042396      0.01110   \n",
       "min    0.000000e+00          0.000000       0.000000      0.00000   \n",
       "25%    6.545417e-11          0.001152       0.001867      0.00000   \n",
       "50%    2.819345e-10          0.002991       0.006556      0.00000   \n",
       "75%    2.051696e-09          0.008099       0.019609      0.00000   \n",
       "max    1.000000e+00          1.000000       1.000000      1.00000   \n",
       "\n",
       "            replies         likes   quote_count     Year         Month  \\\n",
       "count  12265.000000  12265.000000  12265.000000  12265.0  12265.000000   \n",
       "mean       0.002161      0.001772      0.000978      0.0      0.334388   \n",
       "std        0.014180      0.015643      0.017052      0.0      0.261184   \n",
       "min        0.000000      0.000000      0.000000      0.0      0.000000   \n",
       "25%        0.000000      0.000000      0.000000      0.0      0.090909   \n",
       "50%        0.000000      0.000312      0.000000      0.0      0.363636   \n",
       "75%        0.002611      0.000936      0.000000      0.0      0.545455   \n",
       "max        1.000000      1.000000      1.000000      0.0      1.000000   \n",
       "\n",
       "                Day  ...     Period_id         score  scores_author_descrip  \\\n",
       "count  12265.000000  ...  12265.000000  12265.000000           12265.000000   \n",
       "mean       0.468792  ...      0.260090      0.960207               0.527462   \n",
       "std        0.285111  ...      0.438701      0.087044               0.136925   \n",
       "min        0.000000  ...      0.000000      0.500271               0.000000   \n",
       "25%        0.233333  ...      0.000000      0.974392               0.440000   \n",
       "50%        0.433333  ...      0.000000      0.992872               0.533333   \n",
       "75%        0.700000  ...      1.000000      0.997663               0.617647   \n",
       "max        1.000000  ...      1.000000      0.999873               0.961538   \n",
       "\n",
       "       scores_username  scores_location   scores_text  \\\n",
       "count     12265.000000     12265.000000  12265.000000   \n",
       "mean          0.257230         0.335162      0.666785   \n",
       "std           0.097766         0.118571      0.121375   \n",
       "min           0.000000         0.000000      0.024390   \n",
       "25%           0.192308         0.269231      0.577778   \n",
       "50%           0.259259         0.343750      0.666667   \n",
       "75%           0.321429         0.419355      0.757576   \n",
       "max           0.650000         0.695652      1.000000   \n",
       "\n",
       "       scores_extracted_hashtags  support_scores  neutral_scores  \\\n",
       "count               12265.000000    12265.000000    12265.000000   \n",
       "mean                    0.104761        0.781650        0.773162   \n",
       "std                     0.198893        0.073067        0.070949   \n",
       "min                     0.000000        0.000000        0.000000   \n",
       "25%                     0.000000        0.750000        0.740741   \n",
       "50%                     0.000000        0.793103        0.785714   \n",
       "75%                     0.035714        0.821429        0.821429   \n",
       "max                     0.857143        1.000000        0.961538   \n",
       "\n",
       "       against_scores  \n",
       "count    12265.000000  \n",
       "mean         0.780429  \n",
       "std          0.063371  \n",
       "min          0.000000  \n",
       "25%          0.750000  \n",
       "50%          0.777778  \n",
       "75%          0.814815  \n",
       "max          1.000000  \n",
       "\n",
       "[8 rows x 25 columns]"
      ]
     },
     "execution_count": 40,
     "metadata": {},
     "output_type": "execute_result"
    }
   ],
   "source": [
    "data.describe()"
   ]
  },
  {
   "cell_type": "markdown",
   "metadata": {},
   "source": [
    "We’ll go ahead and standardise this data as all the data is on a different scale.\n"
   ]
  },
  {
   "cell_type": "code",
   "execution_count": 41,
   "metadata": {
    "scrolled": true
   },
   "outputs": [],
   "source": [
    "from sklearn.preprocessing import StandardScaler\n",
    "scaler=StandardScaler()\n",
    "scaled_data=scaler.fit_transform(data)\n"
   ]
  },
  {
   "cell_type": "code",
   "execution_count": 42,
   "metadata": {},
   "outputs": [],
   "source": [
    "df=pd.DataFrame(data=scaled_data, columns= data.columns)"
   ]
  },
  {
   "cell_type": "code",
   "execution_count": 43,
   "metadata": {},
   "outputs": [
    {
     "data": {
      "text/html": [
       "<div>\n",
       "<style scoped>\n",
       "    .dataframe tbody tr th:only-of-type {\n",
       "        vertical-align: middle;\n",
       "    }\n",
       "\n",
       "    .dataframe tbody tr th {\n",
       "        vertical-align: top;\n",
       "    }\n",
       "\n",
       "    .dataframe thead th {\n",
       "        text-align: right;\n",
       "    }\n",
       "</style>\n",
       "<table border=\"1\" class=\"dataframe\">\n",
       "  <thead>\n",
       "    <tr style=\"text-align: right;\">\n",
       "      <th></th>\n",
       "      <th>author_id</th>\n",
       "      <th>author_followers</th>\n",
       "      <th>author_tweets</th>\n",
       "      <th>retweets</th>\n",
       "      <th>replies</th>\n",
       "      <th>likes</th>\n",
       "      <th>quote_count</th>\n",
       "      <th>Year</th>\n",
       "      <th>Month</th>\n",
       "      <th>Day</th>\n",
       "      <th>...</th>\n",
       "      <th>Period_id</th>\n",
       "      <th>score</th>\n",
       "      <th>scores_author_descrip</th>\n",
       "      <th>scores_username</th>\n",
       "      <th>scores_location</th>\n",
       "      <th>scores_text</th>\n",
       "      <th>scores_extracted_hashtags</th>\n",
       "      <th>support_scores</th>\n",
       "      <th>neutral_scores</th>\n",
       "      <th>against_scores</th>\n",
       "    </tr>\n",
       "  </thead>\n",
       "  <tbody>\n",
       "    <tr>\n",
       "      <th>count</th>\n",
       "      <td>1.226500e+04</td>\n",
       "      <td>12265.000000</td>\n",
       "      <td>1.226500e+04</td>\n",
       "      <td>1.226500e+04</td>\n",
       "      <td>1.226500e+04</td>\n",
       "      <td>1.226500e+04</td>\n",
       "      <td>1.226500e+04</td>\n",
       "      <td>12265.0</td>\n",
       "      <td>1.226500e+04</td>\n",
       "      <td>1.226500e+04</td>\n",
       "      <td>...</td>\n",
       "      <td>12265.000000</td>\n",
       "      <td>1.226500e+04</td>\n",
       "      <td>1.226500e+04</td>\n",
       "      <td>1.226500e+04</td>\n",
       "      <td>1.226500e+04</td>\n",
       "      <td>1.226500e+04</td>\n",
       "      <td>1.226500e+04</td>\n",
       "      <td>1.226500e+04</td>\n",
       "      <td>1.226500e+04</td>\n",
       "      <td>1.226500e+04</td>\n",
       "    </tr>\n",
       "    <tr>\n",
       "      <th>mean</th>\n",
       "      <td>4.634604e-17</td>\n",
       "      <td>0.000000</td>\n",
       "      <td>-3.244223e-17</td>\n",
       "      <td>-5.793255e-18</td>\n",
       "      <td>2.317302e-18</td>\n",
       "      <td>-1.158651e-18</td>\n",
       "      <td>3.475953e-18</td>\n",
       "      <td>0.0</td>\n",
       "      <td>3.707683e-16</td>\n",
       "      <td>-1.483073e-16</td>\n",
       "      <td>...</td>\n",
       "      <td>0.000000</td>\n",
       "      <td>-2.606965e-16</td>\n",
       "      <td>2.045019e-16</td>\n",
       "      <td>-3.099391e-17</td>\n",
       "      <td>9.558871e-17</td>\n",
       "      <td>1.691630e-16</td>\n",
       "      <td>4.634604e-18</td>\n",
       "      <td>2.146401e-16</td>\n",
       "      <td>-2.080937e-15</td>\n",
       "      <td>-9.848534e-17</td>\n",
       "    </tr>\n",
       "    <tr>\n",
       "      <th>std</th>\n",
       "      <td>1.000041e+00</td>\n",
       "      <td>1.000041</td>\n",
       "      <td>1.000041e+00</td>\n",
       "      <td>1.000041e+00</td>\n",
       "      <td>1.000041e+00</td>\n",
       "      <td>1.000041e+00</td>\n",
       "      <td>1.000041e+00</td>\n",
       "      <td>0.0</td>\n",
       "      <td>1.000041e+00</td>\n",
       "      <td>1.000041e+00</td>\n",
       "      <td>...</td>\n",
       "      <td>1.000041</td>\n",
       "      <td>1.000041e+00</td>\n",
       "      <td>1.000041e+00</td>\n",
       "      <td>1.000041e+00</td>\n",
       "      <td>1.000041e+00</td>\n",
       "      <td>1.000041e+00</td>\n",
       "      <td>1.000041e+00</td>\n",
       "      <td>1.000041e+00</td>\n",
       "      <td>1.000041e+00</td>\n",
       "      <td>1.000041e+00</td>\n",
       "    </tr>\n",
       "    <tr>\n",
       "      <th>min</th>\n",
       "      <td>-4.924838e-01</td>\n",
       "      <td>-0.310945</td>\n",
       "      <td>-4.105390e-01</td>\n",
       "      <td>-7.383921e-02</td>\n",
       "      <td>-1.524334e-01</td>\n",
       "      <td>-1.132715e-01</td>\n",
       "      <td>-5.734635e-02</td>\n",
       "      <td>0.0</td>\n",
       "      <td>-1.280330e+00</td>\n",
       "      <td>-1.644310e+00</td>\n",
       "      <td>...</td>\n",
       "      <td>-0.592887</td>\n",
       "      <td>-5.284152e+00</td>\n",
       "      <td>-3.852355e+00</td>\n",
       "      <td>-2.631173e+00</td>\n",
       "      <td>-2.826798e+00</td>\n",
       "      <td>-5.292865e+00</td>\n",
       "      <td>-5.267424e-01</td>\n",
       "      <td>-1.069820e+01</td>\n",
       "      <td>-1.089787e+01</td>\n",
       "      <td>-1.231572e+01</td>\n",
       "    </tr>\n",
       "    <tr>\n",
       "      <th>25%</th>\n",
       "      <td>-4.924838e-01</td>\n",
       "      <td>-0.275903</td>\n",
       "      <td>-3.665042e-01</td>\n",
       "      <td>-7.383921e-02</td>\n",
       "      <td>-1.524334e-01</td>\n",
       "      <td>-1.132715e-01</td>\n",
       "      <td>-5.734635e-02</td>\n",
       "      <td>0.0</td>\n",
       "      <td>-9.322508e-01</td>\n",
       "      <td>-8.258824e-01</td>\n",
       "      <td>...</td>\n",
       "      <td>-0.592887</td>\n",
       "      <td>1.629678e-01</td>\n",
       "      <td>-6.387871e-01</td>\n",
       "      <td>-6.640802e-01</td>\n",
       "      <td>-5.560730e-01</td>\n",
       "      <td>-7.333582e-01</td>\n",
       "      <td>-5.267424e-01</td>\n",
       "      <td>-4.331775e-01</td>\n",
       "      <td>-4.569819e-01</td>\n",
       "      <td>-4.801965e-01</td>\n",
       "    </tr>\n",
       "    <tr>\n",
       "      <th>50%</th>\n",
       "      <td>-4.924838e-01</td>\n",
       "      <td>-0.219969</td>\n",
       "      <td>-2.559072e-01</td>\n",
       "      <td>-7.383921e-02</td>\n",
       "      <td>-1.524334e-01</td>\n",
       "      <td>-9.333159e-02</td>\n",
       "      <td>-5.734635e-02</td>\n",
       "      <td>0.0</td>\n",
       "      <td>1.119870e-01</td>\n",
       "      <td>-1.243728e-01</td>\n",
       "      <td>...</td>\n",
       "      <td>-0.592887</td>\n",
       "      <td>3.752850e-01</td>\n",
       "      <td>4.287884e-02</td>\n",
       "      <td>2.075943e-02</td>\n",
       "      <td>7.243123e-02</td>\n",
       "      <td>-9.790804e-04</td>\n",
       "      <td>-5.267424e-01</td>\n",
       "      <td>1.567662e-01</td>\n",
       "      <td>1.769292e-01</td>\n",
       "      <td>-4.184372e-02</td>\n",
       "    </tr>\n",
       "    <tr>\n",
       "      <th>75%</th>\n",
       "      <td>-4.924838e-01</td>\n",
       "      <td>-0.064596</td>\n",
       "      <td>5.199232e-02</td>\n",
       "      <td>-7.383921e-02</td>\n",
       "      <td>3.170879e-02</td>\n",
       "      <td>-5.345171e-02</td>\n",
       "      <td>-5.734635e-02</td>\n",
       "      <td>0.0</td>\n",
       "      <td>8.081456e-01</td>\n",
       "      <td>8.109732e-01</td>\n",
       "      <td>...</td>\n",
       "      <td>1.686662</td>\n",
       "      <td>4.303284e-01</td>\n",
       "      <td>6.586695e-01</td>\n",
       "      <td>6.566819e-01</td>\n",
       "      <td>7.100916e-01</td>\n",
       "      <td>7.480450e-01</td>\n",
       "      <td>-3.471697e-01</td>\n",
       "      <td>5.444435e-01</td>\n",
       "      <td>6.803292e-01</td>\n",
       "      <td>5.426266e-01</td>\n",
       "    </tr>\n",
       "    <tr>\n",
       "      <th>max</th>\n",
       "      <td>2.863629e+00</td>\n",
       "      <td>30.105191</td>\n",
       "      <td>2.317734e+01</td>\n",
       "      <td>9.001893e+01</td>\n",
       "      <td>7.037403e+01</td>\n",
       "      <td>6.381417e+01</td>\n",
       "      <td>5.859032e+01</td>\n",
       "      <td>0.0</td>\n",
       "      <td>2.548542e+00</td>\n",
       "      <td>1.863238e+00</td>\n",
       "      <td>...</td>\n",
       "      <td>1.686662</td>\n",
       "      <td>4.557149e-01</td>\n",
       "      <td>3.170302e+00</td>\n",
       "      <td>4.017600e+00</td>\n",
       "      <td>3.040417e+00</td>\n",
       "      <td>2.745443e+00</td>\n",
       "      <td>3.783004e+00</td>\n",
       "      <td>2.988496e+00</td>\n",
       "      <td>2.655206e+00</td>\n",
       "      <td>3.464978e+00</td>\n",
       "    </tr>\n",
       "  </tbody>\n",
       "</table>\n",
       "<p>8 rows × 25 columns</p>\n",
       "</div>"
      ],
      "text/plain": [
       "          author_id  author_followers  author_tweets      retweets  \\\n",
       "count  1.226500e+04      12265.000000   1.226500e+04  1.226500e+04   \n",
       "mean   4.634604e-17          0.000000  -3.244223e-17 -5.793255e-18   \n",
       "std    1.000041e+00          1.000041   1.000041e+00  1.000041e+00   \n",
       "min   -4.924838e-01         -0.310945  -4.105390e-01 -7.383921e-02   \n",
       "25%   -4.924838e-01         -0.275903  -3.665042e-01 -7.383921e-02   \n",
       "50%   -4.924838e-01         -0.219969  -2.559072e-01 -7.383921e-02   \n",
       "75%   -4.924838e-01         -0.064596   5.199232e-02 -7.383921e-02   \n",
       "max    2.863629e+00         30.105191   2.317734e+01  9.001893e+01   \n",
       "\n",
       "            replies         likes   quote_count     Year         Month  \\\n",
       "count  1.226500e+04  1.226500e+04  1.226500e+04  12265.0  1.226500e+04   \n",
       "mean   2.317302e-18 -1.158651e-18  3.475953e-18      0.0  3.707683e-16   \n",
       "std    1.000041e+00  1.000041e+00  1.000041e+00      0.0  1.000041e+00   \n",
       "min   -1.524334e-01 -1.132715e-01 -5.734635e-02      0.0 -1.280330e+00   \n",
       "25%   -1.524334e-01 -1.132715e-01 -5.734635e-02      0.0 -9.322508e-01   \n",
       "50%   -1.524334e-01 -9.333159e-02 -5.734635e-02      0.0  1.119870e-01   \n",
       "75%    3.170879e-02 -5.345171e-02 -5.734635e-02      0.0  8.081456e-01   \n",
       "max    7.037403e+01  6.381417e+01  5.859032e+01      0.0  2.548542e+00   \n",
       "\n",
       "                Day  ...     Period_id         score  scores_author_descrip  \\\n",
       "count  1.226500e+04  ...  12265.000000  1.226500e+04           1.226500e+04   \n",
       "mean  -1.483073e-16  ...      0.000000 -2.606965e-16           2.045019e-16   \n",
       "std    1.000041e+00  ...      1.000041  1.000041e+00           1.000041e+00   \n",
       "min   -1.644310e+00  ...     -0.592887 -5.284152e+00          -3.852355e+00   \n",
       "25%   -8.258824e-01  ...     -0.592887  1.629678e-01          -6.387871e-01   \n",
       "50%   -1.243728e-01  ...     -0.592887  3.752850e-01           4.287884e-02   \n",
       "75%    8.109732e-01  ...      1.686662  4.303284e-01           6.586695e-01   \n",
       "max    1.863238e+00  ...      1.686662  4.557149e-01           3.170302e+00   \n",
       "\n",
       "       scores_username  scores_location   scores_text  \\\n",
       "count     1.226500e+04     1.226500e+04  1.226500e+04   \n",
       "mean     -3.099391e-17     9.558871e-17  1.691630e-16   \n",
       "std       1.000041e+00     1.000041e+00  1.000041e+00   \n",
       "min      -2.631173e+00    -2.826798e+00 -5.292865e+00   \n",
       "25%      -6.640802e-01    -5.560730e-01 -7.333582e-01   \n",
       "50%       2.075943e-02     7.243123e-02 -9.790804e-04   \n",
       "75%       6.566819e-01     7.100916e-01  7.480450e-01   \n",
       "max       4.017600e+00     3.040417e+00  2.745443e+00   \n",
       "\n",
       "       scores_extracted_hashtags  support_scores  neutral_scores  \\\n",
       "count               1.226500e+04    1.226500e+04    1.226500e+04   \n",
       "mean                4.634604e-18    2.146401e-16   -2.080937e-15   \n",
       "std                 1.000041e+00    1.000041e+00    1.000041e+00   \n",
       "min                -5.267424e-01   -1.069820e+01   -1.089787e+01   \n",
       "25%                -5.267424e-01   -4.331775e-01   -4.569819e-01   \n",
       "50%                -5.267424e-01    1.567662e-01    1.769292e-01   \n",
       "75%                -3.471697e-01    5.444435e-01    6.803292e-01   \n",
       "max                 3.783004e+00    2.988496e+00    2.655206e+00   \n",
       "\n",
       "       against_scores  \n",
       "count    1.226500e+04  \n",
       "mean    -9.848534e-17  \n",
       "std      1.000041e+00  \n",
       "min     -1.231572e+01  \n",
       "25%     -4.801965e-01  \n",
       "50%     -4.184372e-02  \n",
       "75%      5.426266e-01  \n",
       "max      3.464978e+00  \n",
       "\n",
       "[8 rows x 25 columns]"
      ]
     },
     "execution_count": 43,
     "metadata": {},
     "output_type": "execute_result"
    }
   ],
   "source": [
    "df.describe()"
   ]
  },
  {
   "cell_type": "code",
   "execution_count": 44,
   "metadata": {},
   "outputs": [
    {
     "data": {
      "image/png": "[encoded data removed]",
      "text/plain": [
       "<Figure size 432x288 with 1 Axes>"
      ]
     },
     "metadata": {
      "needs_background": "light"
     },
     "output_type": "display_data"
    }
   ],
   "source": [
    "from sklearn.decomposition import PCA\n",
    "pca = PCA()\n",
    "principalComponents = pca.fit_transform(df)\n",
    "plt.figure()\n",
    "plt.plot(np.cumsum(pca.explained_variance_ratio_))\n",
    "plt.xlabel('Number of Components')\n",
    "plt.ylabel('Variance (%)') #for each component\n",
    "plt.title('Explained Variance')\n",
    "plt.show()"
   ]
  },
  {
   "cell_type": "markdown",
   "metadata": {},
   "source": [
    "From the diagram above, it can be seen that 14 principal components explain almost 90% of the variance in data and 15 principal components explain around 95% of the variance in data.\n",
    "\n",
    "So, instead of giving all the columns as input, we’d only feed the main 5 principal components of the data to the machine learning algorithm and we’d obtain a similar result."
   ]
  },
  {
   "cell_type": "code",
   "execution_count": 45,
   "metadata": {},
   "outputs": [],
   "source": [
    "pca = PCA(n_components=5)\n",
    "new_data = pca.fit_transform(df)\n",
    "# This will be the new data fed to the algorithm.\n",
    "principal_Df = pd.DataFrame(data = new_data\n",
    "             , columns = ['principal component 0', 'principal component 1', \n",
    "                          'principal component 2','principal component 3',\n",
    "                          'principal component 4'])"
   ]
  },
  {
   "cell_type": "code",
   "execution_count": 46,
   "metadata": {},
   "outputs": [
    {
     "data": {
      "text/html": [
       "<div>\n",
       "<style scoped>\n",
       "    .dataframe tbody tr th:only-of-type {\n",
       "        vertical-align: middle;\n",
       "    }\n",
       "\n",
       "    .dataframe tbody tr th {\n",
       "        vertical-align: top;\n",
       "    }\n",
       "\n",
       "    .dataframe thead th {\n",
       "        text-align: right;\n",
       "    }\n",
       "</style>\n",
       "<table border=\"1\" class=\"dataframe\">\n",
       "  <thead>\n",
       "    <tr style=\"text-align: right;\">\n",
       "      <th></th>\n",
       "      <th>principal component 0</th>\n",
       "      <th>principal component 1</th>\n",
       "      <th>principal component 2</th>\n",
       "      <th>principal component 3</th>\n",
       "      <th>principal component 4</th>\n",
       "    </tr>\n",
       "  </thead>\n",
       "  <tbody>\n",
       "    <tr>\n",
       "      <th>0</th>\n",
       "      <td>0.336994</td>\n",
       "      <td>-0.551888</td>\n",
       "      <td>-1.786086</td>\n",
       "      <td>2.353133</td>\n",
       "      <td>-0.798669</td>\n",
       "    </tr>\n",
       "    <tr>\n",
       "      <th>1</th>\n",
       "      <td>-0.784143</td>\n",
       "      <td>1.120547</td>\n",
       "      <td>-2.804750</td>\n",
       "      <td>2.051449</td>\n",
       "      <td>0.890790</td>\n",
       "    </tr>\n",
       "    <tr>\n",
       "      <th>2</th>\n",
       "      <td>-0.273955</td>\n",
       "      <td>0.616878</td>\n",
       "      <td>-2.287763</td>\n",
       "      <td>2.384150</td>\n",
       "      <td>-1.716458</td>\n",
       "    </tr>\n",
       "    <tr>\n",
       "      <th>3</th>\n",
       "      <td>0.040849</td>\n",
       "      <td>-0.549434</td>\n",
       "      <td>-1.563127</td>\n",
       "      <td>2.440501</td>\n",
       "      <td>-0.809588</td>\n",
       "    </tr>\n",
       "    <tr>\n",
       "      <th>4</th>\n",
       "      <td>-0.708410</td>\n",
       "      <td>0.991842</td>\n",
       "      <td>-2.398454</td>\n",
       "      <td>2.236813</td>\n",
       "      <td>-0.945010</td>\n",
       "    </tr>\n",
       "  </tbody>\n",
       "</table>\n",
       "</div>"
      ],
      "text/plain": [
       "   principal component 0  principal component 1  principal component 2  \\\n",
       "0               0.336994              -0.551888              -1.786086   \n",
       "1              -0.784143               1.120547              -2.804750   \n",
       "2              -0.273955               0.616878              -2.287763   \n",
       "3               0.040849              -0.549434              -1.563127   \n",
       "4              -0.708410               0.991842              -2.398454   \n",
       "\n",
       "   principal component 3  principal component 4  \n",
       "0               2.353133              -0.798669  \n",
       "1               2.051449               0.890790  \n",
       "2               2.384150              -1.716458  \n",
       "3               2.440501              -0.809588  \n",
       "4               2.236813              -0.945010  "
      ]
     },
     "execution_count": 46,
     "metadata": {},
     "output_type": "execute_result"
    }
   ],
   "source": [
    "principal_Df.head()"
   ]
  },
  {
   "cell_type": "markdown",
   "metadata": {},
   "source": [
    "Here, we see that earlier we had 22 columns in the data earlier. Now with the help of Scree plot and PCA, we have reduced the number of features to be used for model building to 5. This is the advantage of PCA. _It drastically reduces the number of features, thereby considerably reducing the training time for the model._"
   ]
  },
  {
   "cell_type": "markdown",
   "metadata": {},
   "source": [
    "##########################################################"
   ]
  },
  {
   "cell_type": "markdown",
   "metadata": {},
   "source": [
    "### Visualizing the Principal components\n",
    "\n",
    "As humans can only perceive 3 dimensions, we’ll take a dataset with less than 4 dimensions. \n"
   ]
  },
  {
   "cell_type": "code",
   "execution_count": 47,
   "metadata": {},
   "outputs": [
    {
     "data": {
      "image/png": "[encoded data removed]",
      "text/plain": [
       "<Figure size 432x288 with 1 Axes>"
      ]
     },
     "metadata": {
      "needs_background": "light"
     },
     "output_type": "display_data"
    }
   ],
   "source": [
    "np.random.seed(1)\n",
    "X = np.dot(np.random.random(size=(2, 2)), np.random.normal(size=(2, 200))).T\n",
    "plt.plot(X[:, 0], X[:, 1], 'o')\n",
    "plt.axis('equal');"
   ]
  },
  {
   "cell_type": "markdown",
   "metadata": {},
   "source": [
    "PCA seeks to find the **Principal Axes** in the data, and explain how vital those axes are in describing the data distribution"
   ]
  },
  {
   "cell_type": "code",
   "execution_count": 48,
   "metadata": {},
   "outputs": [
    {
     "name": "stdout",
     "output_type": "stream",
     "text": [
      "[0.7625315 0.0184779]\n",
      "[[-0.94446029 -0.32862557]\n",
      " [-0.32862557  0.94446029]]\n"
     ]
    }
   ],
   "source": [
    "from sklearn.decomposition import PCA\n",
    "pca = PCA(n_components=2)\n",
    "pca.fit(X)\n",
    "print(pca.explained_variance_)\n",
    "print(pca.components_)"
   ]
  },
  {
   "cell_type": "code",
   "execution_count": 49,
   "metadata": {},
   "outputs": [
    {
     "data": {
      "image/png": "[encoded data removed]",
      "text/plain": [
       "<Figure size 432x288 with 1 Axes>"
      ]
     },
     "metadata": {
      "needs_background": "light"
     },
     "output_type": "display_data"
    }
   ],
   "source": [
    "#To see what these numbers mean, let's view them as vectors plotted on top of the data:\n",
    "\n",
    "plt.plot(X[:, 0], X[:, 1], 'o', alpha=0.5)\n",
    "for length, vector in zip(pca.explained_variance_, pca.components_):\n",
    "    v = vector * 3 * np.sqrt(length)\n",
    "    plt.plot([0, v[0]], [0, v[1]], '-k', lw=3)\n",
    "plt.axis('equal');"
   ]
  },
  {
   "cell_type": "markdown",
   "metadata": {},
   "source": [
    "Notice that one vector is longer than the other. In a sense, this tells us that that direction in the data is somehow more \"important\" than the other direction.\n",
    "The explained variance quantifies this measure of \"importance\" in a direction.\n",
    "\n",
    "Another way to think of it is that the second principal component could be **completely ignored** without much loss of information! Let's see what our data look like if we only keep 95% of the variance\n"
   ]
  },
  {
   "cell_type": "code",
   "execution_count": 50,
   "metadata": {},
   "outputs": [
    {
     "name": "stdout",
     "output_type": "stream",
     "text": [
      "(200, 2)\n",
      "(200, 1)\n"
     ]
    }
   ],
   "source": [
    "clf = PCA(0.95) # keep 95% of variance\n",
    "X_trans = clf.fit_transform(X)\n",
    "print(X.shape)\n",
    "print(X_trans.shape)"
   ]
  },
  {
   "cell_type": "markdown",
   "metadata": {},
   "source": [
    "By specifying that we want to throw away 5% of the variance, the data is now compressed by a factor of 50%! Let's see what the data look like after this compression:"
   ]
  },
  {
   "cell_type": "code",
   "execution_count": 51,
   "metadata": {},
   "outputs": [
    {
     "data": {
      "image/png": "[encoded data removed]",
      "text/plain": [
       "<Figure size 432x288 with 1 Axes>"
      ]
     },
     "metadata": {
      "needs_background": "light"
     },
     "output_type": "display_data"
    }
   ],
   "source": [
    "X_new = clf.inverse_transform(X_trans)\n",
    "plt.plot(X[:, 0], X[:, 1], 'o', alpha=0.2)\n",
    "plt.plot(X_new[:, 0], X_new[:, 1], 'ob', alpha=0.8)\n",
    "plt.axis('equal');"
   ]
  },
  {
   "cell_type": "markdown",
   "metadata": {},
   "source": [
    "The lighter points are the original data, while the dark points are the projected version on the principal component axis.  We see that after truncating 5% of the variance of this dataset and then reprojecting it, the \"most important\" features of the data are maintained, and we've compressed the data by 50%!\n",
    "\n",
    "This is the sense in which \"dimensionality reduction\" works: if you can approximate a data set in a lower dimension, you can often have an easier time visualizing it or fitting complicated models to the data.\n"
   ]
  },
  {
   "cell_type": "markdown",
   "metadata": {},
   "source": [
    "#######################################################"
   ]
  },
  {
   "cell_type": "markdown",
   "metadata": {},
   "source": [
    "### Application of PCA to the UK Twitter Dataset\n",
    "\n",
    "The dimensionality reduction might seem a bit abstract in two dimensions, but the projection and dimensionality reduction can be extremely useful when visualizing high-dimensional data.  Let's implement PCA to the digits data. This data consists of a collection of different tweets in the Covid pandemic to represent the public view on social distincing.\n"
   ]
  },
  {
   "cell_type": "code",
   "execution_count": 52,
   "metadata": {},
   "outputs": [],
   "source": [
    "from array import array"
   ]
  },
  {
   "cell_type": "code",
   "execution_count": 53,
   "metadata": {},
   "outputs": [
    {
     "data": {
      "text/plain": [
       "Index(['Unnamed: 0', 'author_id', 'author_followers', 'author_tweets',\n",
       "       'retweets', 'replies', 'likes', 'quote_count', 'Year', 'Month', 'Day',\n",
       "       'Hour', 'Minute', 'Second', 'hastags_count', 'mentions_count',\n",
       "       'Period_id', 'score', 'PN_score_clst', 'cluster_id',\n",
       "       'scores_author_descrip', 'scores_username', 'scores_location',\n",
       "       'scores_text', 'scores_extracted_hashtags', 'support_scores_clst',\n",
       "       'neutral_scores_clst', 'against_scores_clst', 'total', 'support_scores',\n",
       "       'neutral_scores', 'against_scores', 'all_label'],\n",
       "      dtype='object')"
      ]
     },
     "execution_count": 53,
     "metadata": {},
     "output_type": "execute_result"
    }
   ],
   "source": [
    "data_df.columns"
   ]
  },
  {
   "cell_type": "code",
   "execution_count": 54,
   "metadata": {},
   "outputs": [
    {
     "data": {
      "text/html": [
       "<div>\n",
       "<style scoped>\n",
       "    .dataframe tbody tr th:only-of-type {\n",
       "        vertical-align: middle;\n",
       "    }\n",
       "\n",
       "    .dataframe tbody tr th {\n",
       "        vertical-align: top;\n",
       "    }\n",
       "\n",
       "    .dataframe thead th {\n",
       "        text-align: right;\n",
       "    }\n",
       "</style>\n",
       "<table border=\"1\" class=\"dataframe\">\n",
       "  <thead>\n",
       "    <tr style=\"text-align: right;\">\n",
       "      <th></th>\n",
       "      <th>scores_text</th>\n",
       "      <th>scores_location</th>\n",
       "    </tr>\n",
       "  </thead>\n",
       "  <tbody>\n",
       "    <tr>\n",
       "      <th>0</th>\n",
       "      <td>0.675000</td>\n",
       "      <td>0.200000</td>\n",
       "    </tr>\n",
       "    <tr>\n",
       "      <th>1</th>\n",
       "      <td>0.766667</td>\n",
       "      <td>0.400000</td>\n",
       "    </tr>\n",
       "    <tr>\n",
       "      <th>2</th>\n",
       "      <td>0.613636</td>\n",
       "      <td>0.103448</td>\n",
       "    </tr>\n",
       "    <tr>\n",
       "      <th>3</th>\n",
       "      <td>0.619048</td>\n",
       "      <td>0.344828</td>\n",
       "    </tr>\n",
       "    <tr>\n",
       "      <th>4</th>\n",
       "      <td>0.590909</td>\n",
       "      <td>0.259259</td>\n",
       "    </tr>\n",
       "    <tr>\n",
       "      <th>...</th>\n",
       "      <td>...</td>\n",
       "      <td>...</td>\n",
       "    </tr>\n",
       "    <tr>\n",
       "      <th>12260</th>\n",
       "      <td>0.469388</td>\n",
       "      <td>0.320000</td>\n",
       "    </tr>\n",
       "    <tr>\n",
       "      <th>12261</th>\n",
       "      <td>0.685714</td>\n",
       "      <td>0.461538</td>\n",
       "    </tr>\n",
       "    <tr>\n",
       "      <th>12262</th>\n",
       "      <td>0.892857</td>\n",
       "      <td>0.407407</td>\n",
       "    </tr>\n",
       "    <tr>\n",
       "      <th>12263</th>\n",
       "      <td>0.750000</td>\n",
       "      <td>0.346154</td>\n",
       "    </tr>\n",
       "    <tr>\n",
       "      <th>12264</th>\n",
       "      <td>0.543478</td>\n",
       "      <td>0.407407</td>\n",
       "    </tr>\n",
       "  </tbody>\n",
       "</table>\n",
       "<p>12265 rows × 2 columns</p>\n",
       "</div>"
      ],
      "text/plain": [
       "       scores_text  scores_location\n",
       "0         0.675000         0.200000\n",
       "1         0.766667         0.400000\n",
       "2         0.613636         0.103448\n",
       "3         0.619048         0.344828\n",
       "4         0.590909         0.259259\n",
       "...            ...              ...\n",
       "12260     0.469388         0.320000\n",
       "12261     0.685714         0.461538\n",
       "12262     0.892857         0.407407\n",
       "12263     0.750000         0.346154\n",
       "12264     0.543478         0.407407\n",
       "\n",
       "[12265 rows x 2 columns]"
      ]
     },
     "execution_count": 54,
     "metadata": {},
     "output_type": "execute_result"
    }
   ],
   "source": [
    "data_df[['scores_text', 'scores_location']]"
   ]
  },
  {
   "cell_type": "code",
   "execution_count": 55,
   "metadata": {},
   "outputs": [],
   "source": [
    "X = data_df[['scores_location', 'scores_text']].to_numpy()"
   ]
  },
  {
   "cell_type": "code",
   "execution_count": 56,
   "metadata": {},
   "outputs": [],
   "source": [
    "y = data_df['PN_score_clst']"
   ]
  },
  {
   "cell_type": "code",
   "execution_count": 57,
   "metadata": {},
   "outputs": [
    {
     "name": "stdout",
     "output_type": "stream",
     "text": [
      "(12265, 2)\n",
      "(12265, 2)\n"
     ]
    }
   ],
   "source": [
    "pca = PCA(2)  # project from 64 to 2 dimensions\n",
    "Xproj = pca.fit_transform(X)\n",
    "print(X.shape)\n",
    "print(Xproj.shape)"
   ]
  },
  {
   "cell_type": "code",
   "execution_count": 58,
   "metadata": {},
   "outputs": [
    {
     "data": {
      "image/png": "[encoded data removed]",
      "text/plain": [
       "<Figure size 432x288 with 2 Axes>"
      ]
     },
     "metadata": {
      "needs_background": "light"
     },
     "output_type": "display_data"
    }
   ],
   "source": [
    "# Creating a scatter plot of the datapoints\n",
    "plt.scatter(Xproj[:, 0], Xproj[:, 1], c=y, edgecolor='none', alpha=0.5,\n",
    "            cmap=plt.cm.get_cmap('nipy_spectral', 10))\n",
    "plt.colorbar();"
   ]
  },
  {
   "cell_type": "markdown",
   "metadata": {},
   "source": [
    "This gives us an idea of the relationship between the datapoints. Essentially, we have found the optimal stretch and rotation in 64-dimensional space and tried to fit it to a 2-Dimensional space that allows us to see the layout of the digits, **without reference** to the labels.\n",
    "\n",
    "### What do the Components Mean?\n",
    "\n",
    "This gives us an idea of the relationship between the datapoints. Essentially, we have made the data of 64 dimension fit to a 2-Dimensional space that allows us to see the layout of the digits, **without reference** to the labels.\n",
    "\n",
    "$$\n",
    "x = [x_1, x_2, x_3 \\cdots]\n",
    "$$\n",
    "\n",
    "but what this really means is\n",
    "\n",
    "$$\n",
    "image(x) = x_1 \\cdot{\\rm (pixel~1)} + x_2 \\cdot{\\rm (pixel~2)} + x_3 \\cdot{\\rm (pixel~3)} \\cdots\n",
    "$$\n",
    "\n",
    "If we reduce the dimensionality in the pixel space to (say) 6, we recover only a partial image:\n"
   ]
  },
  {
   "cell_type": "markdown",
   "metadata": {},
   "source": [
    "Pixel-wise representation of those digits is not the only choice we have. We can also use other *basis functions*, and show it like:\n",
    "\n",
    "$$\n",
    "image(x) = {\\rm mean} + x_1 \\cdot{\\rm (basis~1)} + x_2 \\cdot{\\rm (basis~2)} + x_3 \\cdot{\\rm (basis~3)} \\cdots\n",
    "$$\n",
    "\n",
    "What PCA does is to choose optimal **basis functions** so that only a few are needed to get a reasonable approximation.\n",
    "The low-dimensional representation of our data is the coefficients of this series, and the approximate reconstruction is the result of the sum:\n"
   ]
  },
  {
   "cell_type": "markdown",
   "metadata": {},
   "source": [
    "Here we see that with only six PCA components, we recover a reasonable approximation of the input!\n",
    "\n",
    "Thus we see that PCA can be viewed from two angles. It can be viewed as **dimensionality reduction**, or it can be viewed as a form of **lossy data compression** where the loss favours noise. In this way, PCA can be used as a **filtering** mechanism as well.\n"
   ]
  },
  {
   "cell_type": "markdown",
   "metadata": {},
   "source": [
    "#### Choosing the Number of Components\n",
    "\n",
    "But how much information have we thrown away?  We can figure this out by looking at the **explained variance** as a function of the components:\n"
   ]
  },
  {
   "cell_type": "code",
   "execution_count": 59,
   "metadata": {},
   "outputs": [
    {
     "data": {
      "image/png": "[encoded data removed]",
      "text/plain": [
       "<Figure size 432x288 with 1 Axes>"
      ]
     },
     "metadata": {},
     "output_type": "display_data"
    }
   ],
   "source": [
    "sns.set()\n",
    "pca = PCA().fit(X)\n",
    "plt.plot(np.cumsum(pca.explained_variance_ratio_))\n",
    "plt.xlabel('number of components')\n",
    "plt.ylabel('cumulative explained variance');"
   ]
  },
  {
   "cell_type": "markdown",
   "metadata": {},
   "source": [
    "From the Scree plot, it can be seen that 20 components are required to explain 90% of the variance which is still better than computing using all the 64 features. The explained variance threshold can be choosen based on the doamin and business requirements."
   ]
  },
  {
   "cell_type": "markdown",
   "metadata": {},
   "source": [
    "#### PCA for data compression\n",
    "\n",
    "As mentioned, PCA can be used for a sort of data compression as well. Using a smaller value of ``n_components`` allows you to represent a higher dimensional point as a sum of just a few principal component vectors.\n",
    "\n",
    "Here's what a single digit looks like when you change the number of components:\n"
   ]
  },
  {
   "cell_type": "markdown",
   "metadata": {},
   "source": [
    "Let's take another look at this by using IPython's ``interact`` functionality to view the reconstruction of several images at once:"
   ]
  },
  {
   "cell_type": "markdown",
   "metadata": {},
   "source": [
    "In the diagram above, we can dynamically select the number of principal components and get to know the explained percentage of variance."
   ]
  },
  {
   "cell_type": "markdown",
   "metadata": {},
   "source": [
    "**Pros of PCA:**\n",
    "\n",
    "- Correlated features are removed.\n",
    "- Model training time is reduced.\n",
    "- Overfitting is reduced.\n",
    "- Helps in better visualizations\n",
    "- Ability to handle noise\n",
    "\n",
    "**Cons of PCA**\n",
    "- The resultant principal components are less interpretable than the original data\n",
    "- Can lead to information loss if the explained variance threshold is not considered appropriately.\n"
   ]
  },
  {
   "cell_type": "markdown",
   "metadata": {},
   "source": [
    "### Conclusion\n",
    "From all the explanations above, we can conclude that PCA is a very powerful technique for reducing the dimensions of the data, projecting the data from a higher dimension to a lower dimension, helps in data visualization, helps in data compression and most of all increases the model training speed drastically by decreasing the number of variables involved in computation."
   ]
  },
  {
   "cell_type": "markdown",
   "metadata": {},
   "source": [
    "<img src=\"https://i.imgur.com/VCzUM0V.png\">"
   ]
  }
 ],
 "metadata": {
  "kernelspec": {
   "display_name": "Python 3",
   "language": "python",
   "name": "python3"
  },
  "language_info": {
   "codemirror_mode": {
    "name": "ipython",
    "version": 3
   },
   "file_extension": ".py",
   "mimetype": "text/x-python",
   "name": "python",
   "nbconvert_exporter": "python",
   "pygments_lexer": "ipython3",
   "version": "3.8.5"
  }
 },
 "nbformat": 4,
 "nbformat_minor": 2
}
